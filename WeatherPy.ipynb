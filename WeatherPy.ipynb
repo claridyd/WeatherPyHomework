{
 "cells": [
  {
   "cell_type": "code",
   "execution_count": 14,
   "metadata": {},
   "outputs": [],
   "source": [
    "# Dependencies\n",
    "import matplotlib as plt\n",
    "import requests\n",
    "import numpy as np\n",
    "import random\n",
    "import pandas as pd\n",
    "# Import citipy\n",
    "from citipy import citipy\n",
    "\n",
    "# Get api key\n",
    "from config import api_key\n"
   ]
  },
  {
   "cell_type": "code",
   "execution_count": 16,
   "metadata": {},
   "outputs": [
    {
     "data": {
      "text/plain": [
       "591"
      ]
     },
     "execution_count": 16,
     "metadata": {},
     "output_type": "execute_result"
    }
   ],
   "source": [
    "# Range of latitudes and longitudes\n",
    "lat_range = (-90, 90)\n",
    "lon_range = (-180, 180)\n",
    "\n",
    "# List for lat & lon and cities\n",
    "lat_longs = []\n",
    "cities = []\n",
    "\n",
    "#Create a set of random lat and lon combinations\n",
    "lats = np.random.uniform(low=-90.000, high=90.000, size=1500)\n",
    "longs = np.random.uniform(low=-180.000, high=180.000, size=1500)\n",
    "lat_longs = zip(lats, longs)\n",
    "\n",
    "#Identify nearest city for each lat lon combo\n",
    "for lat_lon in lat_longs:\n",
    "    city = citipy.nearest_city(lat_lon[0], lat_lon[1]).city_name\n",
    "    \n",
    "    #If the city is unique then add it to our cities list\n",
    "    if city not in cities:\n",
    "        cities.append(city)\n",
    "        \n",
    "#Print the city count to confirm sufficient count\n",
    "len(cities)\n"
   ]
  },
  {
   "cell_type": "code",
   "execution_count": 18,
   "metadata": {},
   "outputs": [
    {
     "name": "stdout",
     "output_type": "stream",
     "text": [
      "['mataura', 'punta arenas', 'vila franca do campo', 'kapaa', 'padang', 'ushuaia', 'mount isa', 'carnarvon', 'haibowan', 'nikolskoye', 'luga', 'mys shmidta', 'muisne', 'shunyi', 'grand gaube', 'eureka', 'bluff', 'barrow', 'olafsvik', 'albany', 'hermanus', 'attawapiskat', 'bredasdorp', 'yafran', 'te anau', 'norman wells', 'cherskiy', 'lalomanu', 'port alfred', 'hilo', 'puerto ayora', 'barentsburg', 'kahului', 'artyk', 'taolanaro', 'tiksi', 'arraial do cabo', 'avarua', 'amderma', 'fare', 'illoqqortoormiut', 'samusu', 'sentyabrskiy', 'mahadday weyne', 'taltal', 'bengkulu', 'tasiilaq', 'jamestown', 'russell', 'castro', 'thompson', 'kuryk', 'dikson', 'cabo san lucas', 'souillac', 'alamor', 'port elizabeth', 'sabzevar', 'burpengary', 'san patricio', 'chor', 'rikitea', 'kavaratti', 'iqaluit', 'manaure', 'nizhneyansk', 'vaitupu', 'gundlupet', 'guerrero negro', 'upernavik', 'dharchula', 'sao joao da barra', 'torbay', 'dingle', 'ngunguru', 'isangel', 'arroio grande', 'guatemala', 'tuktoyaktuk', 'cobija', 'provideniya', 'samarai', 'airai', 'palabuhanratu', 'ponta do sol', 'vardo', 'port blair', 'hermiston', 'prince rupert', 'hithadhoo', 'mar del plata', 'butaritari', 'lebu', 'cristalina', 'cayenne', 'kimbe', 'oksfjord', 'new norfolk', 'kisarazu', 'kavieng', 'tigzirt', 'jarjis', 'atuona', 'cidreira', 'perugia', 'magadan', 'olinda', 'manresa', 'westport', 'touros', 'umzimvubu', 'barddhaman', 'cape town', 'longyearbyen', 'cap malheureux', 'hobart', 'villa carlos paz', 'kuandian', 'quthing', 'kodiak', 'zwedru', 'pisco', 'yellowknife', 'qaanaaq', 'saldanha', 'sao filipe', 'logstor', 'ilulissat', 'salalah', 'faanui', 'nanortalik', 'narsaq', 'busselton', 'jacksonville beach', 'bambous virieux', 'levokumskoye', 'beringovskiy', 'chokurdakh', 'mount gambier', 'parrita', 'progreso', 'east london', 'atar', 'khakhea', 'henties bay', 'fortuna', 'lubango', 'aranos', 'lata', 'tiarei', 'tabialan', 'pimentel', 'tsihombe', 'xinzhi', 'kaitangata', 'korla', 'athabasca', 'katsuura', 'pevek', 'mahebourg', 'baft', 'rudbar', 'gallup', 'yar-sale', 'petropavlovsk-kamchatskiy', 'lavrentiya', 'panuco', 'khatanga', 'sinnamary', 'saint-philippe', 'los llanos de aridane', 'yumen', 'lafia', 'meulaboh', 'southampton', 'victoria', 'wana', 'dandong', 'vaini', 'nemuro', 'saint anthony', 'zhanaozen', 'kizema', 'talnakh', 'cockburn town', 'zhangjiakou', 'havelock', 'balaipungut', 'bocas del toro', 'ribeira grande', 'praia da vitoria', 'bethel', 'chipinge', 'bandarbeyla', 'geraldton', 'mancio lima', 'pemberton', 'johnshaven', 'tarko-sale', 'odweyne', 'cape elizabeth', 'severo-kurilsk', 'ponte san pietro', 'purranque', 'grand river south east', 'asau', 'ostrovnoy', 'wuchi', 'broome', 'amapa', 'belushya guba', 'tateyama', 'azimur', 'isoka', 'pangnirtung', 'sao felix do xingu', 'save', 'karkaralinsk', 'tawkar', 'yarovoye', 'bonavista', 'bafoulabe', 'belmonte', 'manokwari', 'poopo', 'cakovec', 'ruatoria', 'san quintin', 'yerbogachen', 'shubarkuduk', 'mahanoro', 'nishihara', 'dunedin', 'ville-marie', 'kayes', 'rawson', 'harnosand', 'turayf', 'obihiro', 'kirkenaer', 'cabra', 'yulara', 'alofi', 'klaksvik', 'namibe', 'lolua', 'zelenoborskiy', 'buraydah', 'georgetown', 'piacabucu', 'saskylakh', 'saint george', 'paamiut', 'general roca', 'waslala', 'kalachinsk', 'verkhnevilyuysk', 'moree', 'haines junction', 'dongkan', 'kununurra', 'hasaki', 'bolonchen', 'avera', 'masallatah', 'greymouth', 'tungor', 'santa cruz', 'anadyr', 'clyde river', 'tay ninh', 'puerto leguizamo', 'nkoteng', 'assiniboia', 'buala', 'longlac', 'santarem', 'surt', 'salcininkai', 'wanaka', 'kaeo', 'vestmannaeyjar', 'adrar', 'nautla', 'marcona', 'ilihan', 'abilene', 'predivinsk', 'anupgarh', 'plettenberg bay', 'azuaga', 'mpongwe', 'las cruces', 'sitka', 'huambo', 'tombouctou', 'pochutla', 'dalby', 'coihaique', 'fairbanks', 'sao pedro do sul', 'linxia', 'fort nelson', 'toora-khem', 'mossingen', 'boa vista', 'jeremie', 'sainte-marie', 'weihe', 'curaca', 'kollo', 'kloulklubed', 'neuquen', 'yirol', 'cadillac', 'yaan', 'sukumo', 'margate', 'mnogovershinnyy', 'kazalinsk', 'sangar', 'moissala', 'payson', 'maragogi', 'medea', 'carballo', 'hami', 'xingcheng', 'poum', 'aviles', 'constitucion', 'quelimane', 'lompoc', 'kyakhta', 'auki', 'imphal', 'nesbyen', 'sao domingos do prata', 'palestine', 'kamenka', 'manono', 'banepa', 'nantucket', 'horki', 'sao gabriel da cachoeira', 'marzuq', 'lazaro cardenas', 'miles city', 'umea', 'kitimat', 'fukue', 'jardim', 'acin', 'paracuru', 'picayune', 'acarau', 'moranbah', 'haradok', 'esperance', 'majene', 'sisimiut', 'gari', 'chuy', 'comodoro rivadavia', 'nuuk', 'ozinki', 'churapcha', 'abu jubayhah', 'hamilton', 'siderno', 'sandy point', 'pandamatenga', 'goya', 'tanete', 'kidal', 'gibara', 'oum hadjer', 'songjianghe', 'launceston', 'karibib', 'saleaula', 'leningradskiy', 'araouane', 'red bluff', 'morondava', 'sola', 'capim grosso', 'kosonsoy', 'ahuimanu', 'apomu', 'borama', 'andros town', 'beberibe', 'fereydun kenar', 'iquique', 'tarakan', 'mandalgovi', 'mecca', 'flinders', 'ouadda', 'kintampo', 'hambantota', 'jalu', 'krasnovka', 'hobyo', 'zhigansk', 'tura', 'la asuncion', 'eyl', 'stekolnyy', 'mehamn', 'kalianget', 'raudeberg', 'saryshagan', 'xuanhua', 'bridlington', 'marsh harbour', 'roald', 'bogo', 'oktyabrskiy', 'maumere', 'ust-maya', 'seabra', 'aklavik', 'vanimo', 'nizwa', 'indiaroba', 'zhaotong', 'milledgeville', 'alugan', 'tuy hoa', 'rapid city', 'romny', 'tabiauea', 'grindavik', 'smoky lake', 'lakota', 'lake city', 'lar gerd', 'yangmei', 'strezhevoy', 'carbonia', 'vikhorevka', 'afyonkarahisar', 'sulangan', 'nefteyugansk', 'sebrovo', 'kuche', 'tabukiniberu', 'immokalee', 'amboasary', 'tumannyy', 'bontang', 'kalomo', 'kismayo', 'tsabong', 'dzerzhinsk', 'namatanai', 'canyon', 'vieste', 'sarangarh', 'kirakira', 'marrakesh', 'sao jose da coroa grande', 'mananara', 'cape canaveral', 'calvinia', 'santiago', 'sur', 'dargaville', 'kyabe', 'rosarito', 'zyryanka', 'sergeyevka', 'san ramon', 'fujin', 'sturgis', 'igrim', 'san cristobal', 'karaton', 'venice', 'warqla', 'husavik', 'pangai', 'tahoua', 'solovetskiy', 'port hardy', 'temaraia', 'prior lake', 'birao', 'inta', 'acapulco', 'marawi', 'starotitarovskaya', 'kargasok', 'moose factory', 'makakilo city', 'nampula', 'sicuani', 'englehart', 'elat', 'lincoln', 'pangoa', 'solnechnyy', 'rassvet', 'lagoa', 'fenoarivo atsinanana', 'staronizhestebliyevskaya', 'stornoway', 'katobu', 'linhares', 'cheyur', 'ogembo', 'riyadh', 'port lincoln', 'port macquarie', 'muros', 'veraval', 'muroto', 'lakes entrance', 'arrecife', 'uvelskiy', 'verkhnyaya inta', 'roma', 'mbandaka', 'nome', 'ankazoabo', 'aljezur', 'bud', 'tubuala', 'sansai', 'huaiyuan', 'praya', 'erzincan', 'shu', 'karauzyak', 'mulchen', 'simbahan', 'teya', 'ulaangom', 'juneau', 'mudgee', 'rabo de peixe', 'inhambane', 'dzhusaly', 'umm lajj', 'oranjemund', 'talara', 'vaitape', 'tobermory', 'ikalamavony', 'galle', 'melita', 'rundu', 'cheuskiny', 'voi', 'atambua', 'codrington', 'hollabrunn', 'tacuarembo', 'ji-parana', 'sambava', 'mutsu', 'mayo', 'hihifo', 'lima', 'nebug', 'totskoye', 'opuwo', 'ginir', 'show low', 'gigmoto', 'hofn', 'turukhansk', 'hudiksvall', 'langsa', 'changping', 'leh', 'darhan', 'shache', 'anavra', 'rungata', 'maniitsoq', 'port hawkesbury', 'guayaramerin', 'lugovoy', 'labrea', 'bargal', 'beckley', 'gornopravdinsk', 'mutuipe']\n"
     ]
    }
   ],
   "source": [
    "print(cities)"
   ]
  },
  {
   "cell_type": "code",
   "execution_count": null,
   "metadata": {},
   "outputs": [],
   "source": [
    "#Create output file\n",
    "output_file = \"output_data/cities.csv\""
   ]
  },
  {
   "cell_type": "code",
   "execution_count": 12,
   "metadata": {},
   "outputs": [],
   "source": [
    "# Peform API calls for weather check"
   ]
  },
  {
   "cell_type": "code",
   "execution_count": 13,
   "metadata": {},
   "outputs": [
    {
     "name": "stdout",
     "output_type": "stream",
     "text": [
      "The country code of leningradskiy is 'ru'.\n",
      "The country code of butaritari is 'ki'.\n",
      "The country code of jiuquan is 'cn'.\n"
     ]
    }
   ],
   "source": []
  },
  {
   "cell_type": "code",
   "execution_count": null,
   "metadata": {},
   "outputs": [],
   "source": []
  },
  {
   "cell_type": "code",
   "execution_count": null,
   "metadata": {},
   "outputs": [],
   "source": [
    "# Save config information.\n",
    "url = \"http://api.openweathermap.org/data/2.5/weather?\""
   ]
  },
  {
   "cell_type": "code",
   "execution_count": null,
   "metadata": {},
   "outputs": [],
   "source": []
  },
  {
   "cell_type": "code",
   "execution_count": null,
   "metadata": {},
   "outputs": [],
   "source": []
  },
  {
   "cell_type": "code",
   "execution_count": null,
   "metadata": {},
   "outputs": [],
   "source": []
  }
 ],
 "metadata": {
  "kernelspec": {
   "display_name": "Python 3",
   "language": "python",
   "name": "python3"
  },
  "language_info": {
   "codemirror_mode": {
    "name": "ipython",
    "version": 3
   },
   "file_extension": ".py",
   "mimetype": "text/x-python",
   "name": "python",
   "nbconvert_exporter": "python",
   "pygments_lexer": "ipython3",
   "version": "3.6.8"
  }
 },
 "nbformat": 4,
 "nbformat_minor": 2
}
